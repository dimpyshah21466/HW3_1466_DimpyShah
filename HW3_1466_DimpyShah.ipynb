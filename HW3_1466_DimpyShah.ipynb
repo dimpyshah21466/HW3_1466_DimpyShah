{
 "cells": [
  {
   "cell_type": "markdown",
   "metadata": {},
   "source": [
    "# Homework 3 (40 pts)"
   ]
  },
  {
   "cell_type": "markdown",
   "metadata": {},
   "source": [
    "\n",
    "Due Date: 11/12/2020 (Thursday 11:59 AM\n",
    "\n",
    "Save Notebook file as :HW2_YourStudentID.ipynb\n",
    "\n",
    "Upload to your Github and email the link to: jzhang@eastwest.edu\n",
    "\n",
    "Subject: Homework 3 by YourStudentID and your name"
   ]
  },
  {
   "cell_type": "code",
   "execution_count": null,
   "metadata": {},
   "outputs": [],
   "source": [
    "%matplotlib inline\n",
    "import pandas as pd"
   ]
  },
  {
   "cell_type": "code",
   "execution_count": null,
   "metadata": {},
   "outputs": [],
   "source": [
    "# limiting the display rows\n",
    "pd.set_option('display.max_rows', 5)"
   ]
  },
  {
   "cell_type": "code",
   "execution_count": null,
   "metadata": {},
   "outputs": [],
   "source": [
    "sales = pd.read_csv('c:\\Users\\Dimpy Shah\\Desktop\\data\\MarchSales.csv')\n",
    "print(sales.shape)\n",
    "sales"
   ]
  },
  {
   "cell_type": "code",
   "execution_count": null,
   "metadata": {},
   "outputs": [],
   "source": [
    "print('Dimpy Shah and sh21466\\n')\n",
    "\n",
    "# Problem 1. (2 pt)\n",
    "\n",
    "# Show the number of rows and columns in sales dataframe.\n",
    "print(sales.shape)\n",
    "print('-----------')\n",
    "print(sales)\n",
    "\n",
    "\n"
   ]
  },
  {
   "cell_type": "code",
   "execution_count": null,
   "metadata": {},
   "outputs": [],
   "source": [
    "print('Dimpy Shah and sh21466\\n')\n",
    "\n",
    "# Problem 2 (2 pt)\n",
    "\n",
    "# show the column names of the datafram \n",
    "\n",
    "names = sales.columns\n",
    "\n",
    "print(names)\n",
    "\n",
    "print('----------------------------------------\\n')\n",
    "# show the index of the datafram \n",
    "\n",
    "sales.index\n"
   ]
  },
  {
   "cell_type": "code",
   "execution_count": null,
   "metadata": {},
   "outputs": [],
   "source": [
    "print('Dimpy Shah and sh21466\\n')\n",
    "\n",
    "# Problem 3 (2 pt)\n",
    "# Only show Trans number\n",
    "name = sales['Trans_No']  \n",
    "print(name)\n",
    "\n"
   ]
  },
  {
   "cell_type": "code",
   "execution_count": null,
   "metadata": {},
   "outputs": [],
   "source": [
    "print('Dimpy Shah and sh21466\\n')\n",
    "\n",
    "# Problem 4 (4 pt)\n",
    "# Show Department without duplicate\n",
    "print(sales.Department.unique())\n",
    "print()\n",
    "\n",
    "# Display department name as following format\n",
    "print('Department')\n",
    "print('---------------------------------------------')\n",
    "names = sales.Department.unique()\n",
    "for n in names:\n",
    "    print(n)\n",
    "\n",
    "\n"
   ]
  },
  {
   "cell_type": "code",
   "execution_count": null,
   "metadata": {},
   "outputs": [],
   "source": [
    "print('Dimpy Shah and sh21466\\n')\n",
    "\n",
    "# Problem 5 (2 pt)\n",
    "# Show the columns: Trans_No, Sales Representatives Name.\n",
    "\n",
    "sales[['Trans_No','Sales_First','Sales_Last']]\n",
    "\n"
   ]
  },
  {
   "cell_type": "code",
   "execution_count": null,
   "metadata": {},
   "outputs": [],
   "source": [
    "print('Dimpy Shah and sh21466\\n')\n",
    "\n",
    "# Problem 6 (2 pt)\n",
    "# Show the columns: Trans_No, Sales Representatives Name. \n",
    "# (only show the first, third and fifth row)\n",
    "# HitL use .loc\n",
    "\n",
    "sales[['Trans_No','Sales_First','Sales_Last']].loc[[0, 2, 4]]\n"
   ]
  },
  {
   "cell_type": "code",
   "execution_count": null,
   "metadata": {},
   "outputs": [],
   "source": [
    "print('Dimpy Shah and sh21466\\n')\n",
    "\n",
    "# Problem 7 (2 pt)\n",
    "# Show all transactions in the department of Living Room\n",
    "\n",
    "sales[sales.Department=='Living Room']\n"
   ]
  },
  {
   "cell_type": "code",
   "execution_count": null,
   "metadata": {},
   "outputs": [],
   "source": [
    "print('Dimpy Shah and sh21466\\n')\n",
    "\n",
    "# Problem 8 (2 pts)\n",
    "# Show all transaction in Living Room Department and Trans_Type is Promotion\n",
    "\n",
    "sales[(sales.Department=='Living Room') & (sales.Trans_Type=='Promotion') ]\n",
    "\n",
    "\n",
    "\n"
   ]
  },
  {
   "cell_type": "code",
   "execution_count": null,
   "metadata": {},
   "outputs": [],
   "source": [
    "print('Dimpy Shah and sh21466\\n')\n",
    "\n",
    "# Problem 9 (2 pts)\n",
    "# Show all transaction which amount is over 10000 or Pay_Type is Finance\n",
    "\n",
    "\n",
    "sales[(sales.Pay_Type=='Finance') & (sales.Amount <10000)]\n",
    "\n"
   ]
  },
  {
   "cell_type": "code",
   "execution_count": null,
   "metadata": {},
   "outputs": [],
   "source": [
    "print('Dimpy Shah and sh21466\\n')\n",
    "\n",
    "# Problem 10 (2 pts)\n",
    "# Show all transaction which amount is over 10000\n",
    "# Only include columns: Trans_No, Furniture,Pay_Type, Amount\n",
    "\n",
    "sales[(sales.Amount >10000)][['Trans_No','Furniture','Pay_Type','Amount']]\n",
    "\n",
    "\n",
    "\n"
   ]
  },
  {
   "cell_type": "code",
   "execution_count": null,
   "metadata": {},
   "outputs": [],
   "source": [
    "print('Dimpy Shah and sh21466\\n')\n",
    "\n",
    "# Problem 11 ( 2 pt)\n",
    "# Show the all transactions by Ambrose Sardelis\n",
    "sales[(sales.Sales_First=='Ambrose') & (sales.Sales_Last=='Sardelis') ]\n",
    "\n",
    "\n",
    "\n"
   ]
  },
  {
   "cell_type": "code",
   "execution_count": null,
   "metadata": {},
   "outputs": [],
   "source": [
    "print('Dimpy Shah and sh21466\\n')\n",
    "\n",
    "# Problem 12 ( 2 pt)\n",
    " \n",
    "# Show the number of transactions by Ambrose Sardelis\n",
    "\n",
    "\n",
    "print('The number of transactions by Ambrose Sardelis is :', len(sales[sales.Sales_First=='Ambrose']))\n",
    "\n",
    "\n"
   ]
  },
  {
   "cell_type": "code",
   "execution_count": null,
   "metadata": {},
   "outputs": [],
   "source": [
    "print('Dimpy Shah and sh21466\\n')\n",
    "\n",
    "# Problem 13 ( 2 pt)\n",
    " \n",
    "# Show the total sales by Ambrose Sardelis\n",
    "\n",
    "\n",
    "\n",
    "print('The total sales of transactions by Ambrose Sardelis is','$',sales[sales.Sales_First=='Ambrose'].Amount.sum() )\n",
    "\n"
   ]
  },
  {
   "cell_type": "code",
   "execution_count": null,
   "metadata": {},
   "outputs": [],
   "source": [
    "print('Dimpy Shah and sh21466\\n')\n",
    "\n",
    "# Problem 14 (2 pt)\n",
    "# Show the total sales amount in March.\n",
    "\n",
    "print('The total sales Amount is','$',sales.Amount.sum() )\n",
    "\n",
    "\n"
   ]
  },
  {
   "cell_type": "code",
   "execution_count": null,
   "metadata": {},
   "outputs": [],
   "source": [
    "print('Dimpy Shah and sh21466\\n')\n",
    "\n",
    "# Problem 15 & 16 ( 4 pts)\n",
    "# What the percentage of sales transactions in Promotion type among all sales transaction.\n",
    "\n",
    "\n",
    "total_tran = len(sales['Trans_Type'])\n",
    "print('Total Number of transactions : ',total_tran )\n",
    "\n",
    "prom_tran = len(sales[sales.Trans_Type == 'Promotion'])\n",
    "print('Total Promotion transactions : ',prom_tran )\n",
    "\n",
    "print('Percentage of sales transaction ', format((prom_tran/total_tran), '.2%'))\n",
    "\n",
    "\n",
    "\n"
   ]
  },
  {
   "cell_type": "code",
   "execution_count": null,
   "metadata": {},
   "outputs": [],
   "source": [
    "print('Dimpy Shah and sh21466\\n')\n",
    "\n",
    "# Problem 16 & 17 ( 4 pts)\n",
    "# What the percentage of total sales from living room department among total sales.\n",
    "tot_sale = sales['Amount'].sum()\n",
    "print('Total sales of March: $ ', tot_sale)\n",
    "\n",
    "living_room_sales = sales[(sales.Department == 'Living Room')]['Amount'].sum()\n",
    "print('Total sales of Living room: $ ', living_room_sales)\n",
    "\n",
    "print('Percentage of total sales is ', format((living_room_sales/tot_sale), '.2%'))\n",
    "\n",
    "\n",
    "\n",
    "\n"
   ]
  },
  {
   "cell_type": "code",
   "execution_count": null,
   "metadata": {},
   "outputs": [],
   "source": [
    "print('Dimpy Shah and sh21466\\n')\n",
    "\n",
    "# Problem 18 ( 2 pt)\n",
    "# Show sales Amount from Bedroom and living room department. ( hint: Use OR Logic)\n",
    "\n",
    "total_sale_amount = sales[(sales['Department'] =='Bedroom') | (sales['Department'] =='Living Room') ].Amount.sum()\n",
    "print('Total sales of Bedroom and Living room: $ ', total_sale_amount)\n",
    "\n",
    "\n"
   ]
  },
  {
   "cell_type": "code",
   "execution_count": null,
   "metadata": {},
   "outputs": [],
   "source": [
    "print('Dimpy Shah and sh21466\\n')\n",
    "\n",
    "# Problem 19 ( 2 pt)\n",
    "# Show the number of sales transactions from Bedroom department and Living Room department.\n",
    "#  ( hint: Use OR Logic)\n",
    "total_trans = len(sales[(sales['Department'] =='Bedroom') | (sales['Department'] =='Living Room') ])\n",
    "print('Total transactions from Bedroom and Living Room Department is ',total_trans )\n",
    "\n",
    "\n",
    "\n"
   ]
  }
 ],
 "metadata": {
  "kernelspec": {
   "display_name": "Python 3",
   "language": "python",
   "name": "python3"
  },
  "language_info": {
   "codemirror_mode": {
    "name": "ipython",
    "version": 3
   },
   "file_extension": ".py",
   "mimetype": "text/x-python",
   "name": "python",
   "nbconvert_exporter": "python",
   "pygments_lexer": "ipython3",
   "version": "3.8.3"
  }
 },
 "nbformat": 4,
 "nbformat_minor": 1
}
